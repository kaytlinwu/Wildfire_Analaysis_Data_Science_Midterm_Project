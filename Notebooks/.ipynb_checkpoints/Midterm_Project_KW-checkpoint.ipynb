{
 "cells": [
  {
   "cell_type": "code",
   "execution_count": 1,
   "id": "d8e1b0d0",
   "metadata": {},
   "outputs": [],
   "source": [
    "import pandas as pd\n",
    "import seaborn as sns\n",
    "import matplotlib.pyplot as plt\n",
    "import numpy as np"
   ]
  },
  {
   "cell_type": "code",
   "execution_count": null,
   "id": "8125ac5e",
   "metadata": {},
   "outputs": [],
   "source": [
    "#Import data file into notebook\n",
    "data = pd.read_csv(\"../Data/\")"
   ]
  },
  {
   "cell_type": "code",
   "execution_count": null,
   "id": "77c1f645",
   "metadata": {},
   "outputs": [],
   "source": [
    "#preview dataset \n",
    "data.head()"
   ]
  },
  {
   "cell_type": "code",
   "execution_count": null,
   "id": "ae013d2c",
   "metadata": {},
   "outputs": [],
   "source": [
    "data.tail()"
   ]
  },
  {
   "cell_type": "code",
   "execution_count": null,
   "id": "b79a2d85",
   "metadata": {},
   "outputs": [],
   "source": [
    "data.shape()"
   ]
  },
  {
   "cell_type": "code",
   "execution_count": null,
   "id": "c6c6aa0a",
   "metadata": {},
   "outputs": [],
   "source": [
    "data.describe()"
   ]
  },
  {
   "cell_type": "code",
   "execution_count": null,
   "id": "c38027d6",
   "metadata": {},
   "outputs": [],
   "source": [
    "#Preview dataframe columns\n",
    "data.columns"
   ]
  },
  {
   "cell_type": "code",
   "execution_count": null,
   "id": "7f68d51a",
   "metadata": {},
   "outputs": [],
   "source": [
    "#Check number of unique values per column\n",
    "data.nunique()"
   ]
  },
  {
   "cell_type": "code",
   "execution_count": null,
   "id": "9c674e39",
   "metadata": {},
   "outputs": [],
   "source": [
    "data.info()"
   ]
  },
  {
   "cell_type": "code",
   "execution_count": null,
   "id": "a3d5708b",
   "metadata": {},
   "outputs": [],
   "source": [
    "#check for the sum of all null values\n",
    "data.isnull.sum()"
   ]
  },
  {
   "cell_type": "code",
   "execution_count": null,
   "id": "1ba1fde1",
   "metadata": {},
   "outputs": [],
   "source": [
    "#Sorting values by a column to look at each column\n",
    "data.sort_values(by= \"column\", ascending = False).head()"
   ]
  },
  {
   "cell_type": "code",
   "execution_count": null,
   "id": "9af168ad",
   "metadata": {},
   "outputs": [],
   "source": [
    "#Data cleaning\n",
    "#Drop columns that are unneccesary in analysis. \n",
    "#Remove or replace null values with the average. \n",
    "#Change column type to appropriate type. \n",
    "#Find and remove outliers-> box plots, scatter plots, pairplot, histograms for deviations\n",
    "#Check the validity of the data (does the data make sense)? Is the data correct\n",
    "#Reformat strings if necessary\n",
    "#Make new columns if necessary\n",
    "#Remove duplicate rows/data\n",
    "\n",
    "data.drop(['column', 'column2', etc])\n",
    "data.duplicated()"
   ]
  },
  {
   "cell_type": "code",
   "execution_count": null,
   "id": "3200c282",
   "metadata": {},
   "outputs": [],
   "source": [
    "#Relationship analysis\n",
    "#correlation analysis\n",
    "correlation = data.corr()\n",
    "sns.heatmap(data, xticklabels = correlation.columns, yticklabels = correlation.columns, annot = True)\n",
    "\n",
    "#Another way to make the heatmap\n",
    "sns.heatmap(data.corr(), annot = True)\n",
    "plt.rcParams['figure.figsize'] = (20, 7)   #can change these numbers here"
   ]
  },
  {
   "cell_type": "code",
   "execution_count": null,
   "id": "49ed9e06",
   "metadata": {},
   "outputs": [],
   "source": [
    "#Try to group data together to do more insights (looking for a use case)\n",
    "df.groupby('column').mean()\n",
    "df[df['column'].str.contains('')]\n",
    "\n",
    "df.transpose #changes the rows in columns and vice versa\n",
    "df.select_dtype(include= 'object') #can select to call specific datatype columns"
   ]
  },
  {
   "cell_type": "code",
   "execution_count": null,
   "id": "a0cbb1af",
   "metadata": {},
   "outputs": [],
   "source": [
    "sns.pairplot(data)\n",
    "sns.distplot()  #can make bins\n",
    "sns.catplot(x='', kind = 'box', data = )"
   ]
  },
  {
   "cell_type": "code",
   "execution_count": null,
   "id": "a5e5314a",
   "metadata": {},
   "outputs": [],
   "source": [
    "#The data is now ready to model for predictive analysis!"
   ]
  }
 ],
 "metadata": {
  "kernelspec": {
   "display_name": "Python 3 (ipykernel)",
   "language": "python",
   "name": "python3"
  },
  "language_info": {
   "codemirror_mode": {
    "name": "ipython",
    "version": 3
   },
   "file_extension": ".py",
   "mimetype": "text/x-python",
   "name": "python",
   "nbconvert_exporter": "python",
   "pygments_lexer": "ipython3",
   "version": "3.10.9"
  }
 },
 "nbformat": 4,
 "nbformat_minor": 5
}
